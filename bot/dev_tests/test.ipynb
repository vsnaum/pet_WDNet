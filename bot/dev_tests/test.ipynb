{
 "cells": [
  {
   "cell_type": "code",
   "execution_count": 13,
   "metadata": {},
   "outputs": [],
   "source": [
    "from PIL import Image\n",
    "from io import BytesIO\n",
    "import WMRemoverNN as wmr\n",
    "import math\n",
    "\n",
    "def convert_size(size_bytes):\n",
    "   if size_bytes == 0:\n",
    "       return \"0B\"\n",
    "   size_name = (\"B\", \"KB\", \"MB\", \"GB\", \"TB\", \"PB\", \"EB\", \"ZB\", \"YB\")\n",
    "   i = int(math.floor(math.log(size_bytes, 1024)))\n",
    "   p = math.pow(1024, i)\n",
    "   s = round(size_bytes / p, 2)\n",
    "   return \"%s %s\" % (s, size_name[i])"
   ]
  },
  {
   "cell_type": "code",
   "execution_count": 17,
   "metadata": {},
   "outputs": [
    {
     "name": "stdout",
     "output_type": "stream",
     "text": [
      "peak memory: 106.42 MB\n"
     ]
    }
   ],
   "source": [
    "import tracemalloc\n",
    "def app():\n",
    "    img=Image.open('wm_huge2.jpg')\n",
    "\n",
    "    max_size = 1280\n",
    "    if max(img.size) > max_size:\n",
    "        aspect = img.height / img.width\n",
    "        if aspect > 1:\n",
    "            new_h = max_size\n",
    "            new_w = int(new_h / aspect)\n",
    "        elif aspect < 1:\n",
    "            new_w = max_size\n",
    "            new_h = int(aspect * new_w)\n",
    "        elif aspect == 1:\n",
    "            new_h, new_w = max_size,max_size\n",
    "        img = img.resize((new_w,new_h))\n",
    "\n",
    "    img_nowm = wmr.run('WDnet_G.onnx',img)\n",
    "    buffer = BytesIO()\n",
    "    img_nowm.save(buffer,'JPEG')\n",
    "    buffer.seek(0)\n",
    "\n",
    "\n",
    "\n",
    "tracemalloc.start()\n",
    "app()\n",
    "peak = tracemalloc.get_traced_memory()[1]\n",
    "tracemalloc.stop()\n",
    "\n",
    "print(f'peak memory: {convert_size(peak)}')\n"
   ]
  }
 ],
 "metadata": {
  "kernelspec": {
   "display_name": "base",
   "language": "python",
   "name": "python3"
  },
  "language_info": {
   "codemirror_mode": {
    "name": "ipython",
    "version": 3
   },
   "file_extension": ".py",
   "mimetype": "text/x-python",
   "name": "python",
   "nbconvert_exporter": "python",
   "pygments_lexer": "ipython3",
   "version": "3.11.5"
  }
 },
 "nbformat": 4,
 "nbformat_minor": 2
}
