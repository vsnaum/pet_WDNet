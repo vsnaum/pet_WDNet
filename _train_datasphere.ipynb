{
 "cells": [
  {
   "cell_type": "code",
   "execution_count": 1,
   "metadata": {
    "cellId": "kby6gfzc0r7tpj8u335bts",
    "execution": {
     "iopub.execute_input": "2024-03-23T20:29:31.137495Z",
     "iopub.status.busy": "2024-03-23T20:29:31.136417Z",
     "iopub.status.idle": "2024-03-23T20:29:33.373971Z",
     "shell.execute_reply": "2024-03-23T20:29:33.372779Z",
     "shell.execute_reply.started": "2024-03-23T20:29:31.137453Z"
    },
    "executionInfo": {
     "elapsed": 2430,
     "status": "ok",
     "timestamp": 1698581990512,
     "user": {
      "displayName": "Vladimir Naumov",
      "userId": "11856930497512807492"
     },
     "user_tz": -180
    },
    "id": "QsG9QznLlqbE",
    "tags": []
   },
   "outputs": [
    {
     "data": {
      "text/plain": [
       "True"
      ]
     },
     "execution_count": 1,
     "metadata": {},
     "output_type": "execute_result"
    }
   ],
   "source": [
    "import sys\n",
    "import os\n",
    "import torch\n",
    "import numpy as np\n",
    "import torchvision\n",
    "import cv2\n",
    "import WDNet\n",
    "\n",
    "basic_path = ''\n",
    "os.environ[\"KMP_DUPLICATE_LIB_OK\"]=\"TRUE\"\n",
    "torch.cuda.is_available()"
   ]
  },
  {
   "cell_type": "code",
   "execution_count": 2,
   "metadata": {
    "cellId": "b9ota5gwimdfb0rmn550j6",
    "colab": {
     "base_uri": "https://localhost:8080/"
    },
    "execution": {
     "iopub.execute_input": "2024-03-23T20:29:33.376597Z",
     "iopub.status.busy": "2024-03-23T20:29:33.375831Z",
     "iopub.status.idle": "2024-03-23T20:29:33.398600Z",
     "shell.execute_reply": "2024-03-23T20:29:33.397437Z",
     "shell.execute_reply.started": "2024-03-23T20:29:33.376565Z"
    },
    "executionInfo": {
     "elapsed": 294,
     "status": "ok",
     "timestamp": 1698582704901,
     "user": {
      "displayName": "Vladimir Naumov",
      "userId": "11856930497512807492"
     },
     "user_tz": -180
    },
    "id": "E8c92OMSsPNC",
    "outputId": "bf3378c1-5f96-4a51-8be3-0491b4889d2d",
    "tags": []
   },
   "outputs": [
    {
     "data": {
      "text/plain": [
       "{'epoch': 1,\n",
       " 'batch_size': 24,\n",
       " 'save_dir': '../model_WDNet',\n",
       " 'result_dir': '',\n",
       " 'dataset': '../data_CLWD',\n",
       " 'log_dir': '../model_WDNet',\n",
       " 'gpu_mode': True,\n",
       " 'input_size': 28,\n",
       " 'dataloader_workers': 8,\n",
       " 'gan_type': 'CGAN',\n",
       " 'lrG': 0.0002,\n",
       " 'lrD': 0.0002,\n",
       " 'beta1': 0.5,\n",
       " 'beta2': 0.999}"
      ]
     },
     "execution_count": 2,
     "metadata": {},
     "output_type": "execute_result"
    }
   ],
   "source": [
    "torch.cuda.empty_cache()\n",
    "args ={}\n",
    "args['epoch'] = 1\n",
    "args['batch_size'] = 24 # 12 for 16Gb\n",
    "args['save_dir'] = basic_path+'../model_WDNet'\n",
    "args['result_dir'] = ''\n",
    "args['dataset'] = basic_path+'../data_CLWD'\n",
    "args['log_dir'] = basic_path+'../model_WDNet'\n",
    "args['gpu_mode'] = True\n",
    "args['input_size'] = 28 # не знаю что это\n",
    "args['dataloader_workers'] = 8\n",
    "args['gan_type'] = 'CGAN'\n",
    "args['lrG'] = 0.0002\n",
    "args['lrD'] = 0.0002\n",
    "args['beta1'] = 0.5\n",
    "args['beta2'] = 0.999\n",
    "args\n"
   ]
  },
  {
   "cell_type": "code",
   "execution_count": 3,
   "metadata": {
    "cellId": "1nbwd9clvb3ge3ldq64aye",
    "colab": {
     "base_uri": "https://localhost:8080/",
     "height": 374
    },
    "execution": {
     "iopub.execute_input": "2024-03-23T20:29:33.401353Z",
     "iopub.status.busy": "2024-03-23T20:29:33.400512Z",
     "iopub.status.idle": "2024-03-23T20:29:36.328941Z",
     "shell.execute_reply": "2024-03-23T20:29:36.327619Z",
     "shell.execute_reply.started": "2024-03-23T20:29:33.401318Z"
    },
    "executionInfo": {
     "elapsed": 18899,
     "status": "error",
     "timestamp": 1698582732700,
     "user": {
      "displayName": "Vladimir Naumov",
      "userId": "11856930497512807492"
     },
     "user_tz": -180
    },
    "id": "4bnEK9pUl8W4",
    "outputId": "537d1c64-07d3-4f65-a800-d1aeb7e0dfe1",
    "tags": []
   },
   "outputs": [
    {
     "name": "stdout",
     "output_type": "stream",
     "text": [
      "Model loaded from ../model_WDNet\n"
     ]
    }
   ],
   "source": [
    "wdnet = WDNet.WDNet(args)"
   ]
  },
  {
   "cell_type": "code",
   "execution_count": 4,
   "metadata": {
    "cellId": "y15kr56akxfu2jgg0ytnss",
    "execution": {
     "iopub.execute_input": "2024-03-23T20:29:36.332013Z",
     "iopub.status.busy": "2024-03-23T20:29:36.331106Z",
     "iopub.status.idle": "2024-03-23T21:21:46.153518Z",
     "shell.execute_reply": "2024-03-23T21:21:46.152127Z",
     "shell.execute_reply.started": "2024-03-23T20:29:36.331961Z"
    },
    "executionInfo": {
     "elapsed": 2,
     "status": "aborted",
     "timestamp": 1698582732700,
     "user": {
      "displayName": "Vladimir Naumov",
      "userId": "11856930497512807492"
     },
     "user_tz": -180
    },
    "id": "KA_ot9SsWYmW",
    "tags": []
   },
   "outputs": [
    {
     "name": "stderr",
     "output_type": "stream",
     "text": [
      "/usr/local/lib/python3.10/dist-packages/torchvision/models/_utils.py:208: UserWarning: The parameter 'pretrained' is deprecated since 0.13 and may be removed in the future, please use 'weights' instead.\n",
      "  warnings.warn(\n",
      "/usr/local/lib/python3.10/dist-packages/torchvision/models/_utils.py:223: UserWarning: Arguments other than a weight enum or `None` for 'weights' are deprecated since 0.13 and may be removed in the future. The current behavior is equivalent to passing `weights=VGG16_Weights.IMAGENET1K_V1`. You can also use `weights=VGG16_Weights.DEFAULT` to get the most up-to-date weights.\n",
      "  warnings.warn(msg)\n",
      "Downloading: \"https://download.pytorch.org/models/vgg16-397923af.pth\" to /tmp/xdg_cache/torch/hub/checkpoints/vgg16-397923af.pth\n",
      "100%|██████████| 528M/528M [00:08<00:00, 68.9MB/s] \n"
     ]
    },
    {
     "name": "stdout",
     "output_type": "stream",
     "text": [
      "Start training!\n",
      "Epoch: [ 1] [ 100/2500] D_loss: 0.67252433, G_loss: 0.83240670\n",
      "Epoch: [ 1] [ 200/2500] D_loss: 0.67297792, G_loss: 0.96195859\n",
      "Epoch: [ 1] [ 300/2500] D_loss: 0.66326904, G_loss: 0.84323102\n",
      "Epoch: [ 1] [ 400/2500] D_loss: 0.70419419, G_loss: 0.83807433\n",
      "Epoch: [ 1] [ 500/2500] D_loss: 0.64107430, G_loss: 0.80234998\n",
      "Epoch: [ 1] [ 600/2500] D_loss: 0.65512776, G_loss: 0.72187632\n",
      "Epoch: [ 1] [ 700/2500] D_loss: 0.65598786, G_loss: 0.97517383\n",
      "Epoch: [ 1] [ 800/2500] D_loss: 0.64846826, G_loss: 0.70796013\n",
      "Epoch: [ 1] [ 900/2500] D_loss: 0.73134184, G_loss: 0.80687582\n",
      "Epoch: [ 1] [1000/2500] D_loss: 0.63538778, G_loss: 0.73424172\n",
      "Epoch: [ 1] [1100/2500] D_loss: 0.65784067, G_loss: 0.67114413\n",
      "Epoch: [ 1] [1200/2500] D_loss: 0.68963623, G_loss: 0.82628238\n",
      "Epoch: [ 1] [1300/2500] D_loss: 0.66105801, G_loss: 0.69155097\n",
      "Epoch: [ 1] [1400/2500] D_loss: 0.65002227, G_loss: 0.90541130\n",
      "Epoch: [ 1] [1500/2500] D_loss: 0.62928027, G_loss: 0.80564499\n",
      "Epoch: [ 1] [1600/2500] D_loss: 0.61204481, G_loss: 0.78372687\n",
      "Epoch: [ 1] [1700/2500] D_loss: 0.64128470, G_loss: 0.76997310\n",
      "Epoch: [ 1] [1800/2500] D_loss: 0.65858281, G_loss: 0.69498396\n",
      "Epoch: [ 1] [1900/2500] D_loss: 0.62910974, G_loss: 0.76474839\n",
      "Epoch: [ 1] [2000/2500] D_loss: 0.66218495, G_loss: 0.82836115\n",
      "Epoch: [ 1] [2100/2500] D_loss: 0.64439404, G_loss: 0.81100082\n",
      "Epoch: [ 1] [2200/2500] D_loss: 0.67078364, G_loss: 0.73826307\n",
      "Epoch: [ 1] [2300/2500] D_loss: 0.69189739, G_loss: 0.83115888\n",
      "Epoch: [ 1] [2400/2500] D_loss: 0.64134455, G_loss: 0.79578650\n",
      "Epoch: [ 1] [2500/2500] D_loss: 0.65523475, G_loss: 0.85176468\n",
      "Model saved to ../model_WDNet\n",
      "Training finish!... save training results\n",
      "Model saved to ../model_WDNet\n"
     ]
    }
   ],
   "source": [
    "wdnet.train()"
   ]
  }
 ],
 "metadata": {
  "accelerator": "GPU",
  "colab": {
   "gpuType": "T4",
   "provenance": []
  },
  "kernelspec": {
   "display_name": "DataSphere Kernel",
   "language": "python",
   "name": "python3"
  },
  "language_info": {
   "codemirror_mode": {
    "name": "ipython",
    "version": 3
   },
   "file_extension": ".py",
   "mimetype": "text/x-python",
   "name": "python",
   "nbconvert_exporter": "python",
   "pygments_lexer": "ipython3",
   "version": "3.7.7"
  },
  "notebookId": "b55de8e4-e002-42c7-8d0e-057fda785f2d",
  "notebookPath": "WDNet.ipynb"
 },
 "nbformat": 4,
 "nbformat_minor": 4
}
