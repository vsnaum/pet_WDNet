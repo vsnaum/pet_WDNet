{
 "cells": [
  {
   "cell_type": "code",
   "execution_count": null,
   "metadata": {
    "cellId": "kby6gfzc0r7tpj8u335bts",
    "execution": {
     "iopub.execute_input": "2024-03-23T19:49:21.106856Z",
     "iopub.status.busy": "2024-03-23T19:49:21.106486Z"
    },
    "executionInfo": {
     "elapsed": 2430,
     "status": "ok",
     "timestamp": 1698581990512,
     "user": {
      "displayName": "Vladimir Naumov",
      "userId": "11856930497512807492"
     },
     "user_tz": -180
    },
    "id": "QsG9QznLlqbE",
    "tags": []
   },
   "outputs": [],
   "source": [
    "import sys\n",
    "import os\n",
    "import torch\n",
    "import numpy as np\n",
    "import torchvision\n",
    "import cv2\n",
    "import WDNet\n",
    "\n",
    "basic_path = ''\n",
    "os.environ[\"KMP_DUPLICATE_LIB_OK\"]=\"TRUE\"\n",
    "torch.cuda.is_available()"
   ]
  },
  {
   "cell_type": "code",
   "execution_count": null,
   "metadata": {
    "cellId": "b9ota5gwimdfb0rmn550j6",
    "colab": {
     "base_uri": "https://localhost:8080/"
    },
    "executionInfo": {
     "elapsed": 294,
     "status": "ok",
     "timestamp": 1698582704901,
     "user": {
      "displayName": "Vladimir Naumov",
      "userId": "11856930497512807492"
     },
     "user_tz": -180
    },
    "id": "E8c92OMSsPNC",
    "outputId": "bf3378c1-5f96-4a51-8be3-0491b4889d2d",
    "tags": []
   },
   "outputs": [],
   "source": [
    "args ={}\n",
    "args['epoch'] = 1\n",
    "args['batch_size'] = 60 # 12 for 16Gb\n",
    "args['save_dir'] = basic_path+'../model_WDNet'\n",
    "args['result_dir'] = ''\n",
    "args['dataset'] = basic_path+'../data_CLWD'\n",
    "args['log_dir'] = basic_path+'../model_WDNet'\n",
    "args['gpu_mode'] = True\n",
    "args['input_size'] = 28 # не знаю что это\n",
    "args['dataloader_workers'] = 28\n",
    "args['gan_type'] = 'CGAN'\n",
    "args['lrG'] = 0.0002\n",
    "args['lrD'] = 0.0002\n",
    "args['beta1'] = 0.5\n",
    "args['beta2'] = 0.999\n",
    "args"
   ]
  },
  {
   "cell_type": "code",
   "execution_count": null,
   "metadata": {
    "cellId": "1nbwd9clvb3ge3ldq64aye",
    "colab": {
     "base_uri": "https://localhost:8080/",
     "height": 374
    },
    "executionInfo": {
     "elapsed": 18899,
     "status": "error",
     "timestamp": 1698582732700,
     "user": {
      "displayName": "Vladimir Naumov",
      "userId": "11856930497512807492"
     },
     "user_tz": -180
    },
    "id": "4bnEK9pUl8W4",
    "outputId": "537d1c64-07d3-4f65-a800-d1aeb7e0dfe1",
    "tags": []
   },
   "outputs": [],
   "source": [
    "wdnet = WDNet.WDNet(args)"
   ]
  },
  {
   "cell_type": "code",
   "execution_count": null,
   "metadata": {
    "cellId": "y15kr56akxfu2jgg0ytnss",
    "executionInfo": {
     "elapsed": 2,
     "status": "aborted",
     "timestamp": 1698582732700,
     "user": {
      "displayName": "Vladimir Naumov",
      "userId": "11856930497512807492"
     },
     "user_tz": -180
    },
    "id": "KA_ot9SsWYmW",
    "tags": []
   },
   "outputs": [],
   "source": [
    "wdnet.train()"
   ]
  }
 ],
 "metadata": {
  "accelerator": "GPU",
  "colab": {
   "gpuType": "T4",
   "provenance": []
  },
  "kernelspec": {
   "display_name": "DataSphere Kernel",
   "language": "python",
   "name": "python3"
  },
  "language_info": {
   "codemirror_mode": {
    "name": "ipython",
    "version": 3
   },
   "file_extension": ".py",
   "mimetype": "text/x-python",
   "name": "python",
   "nbconvert_exporter": "python",
   "pygments_lexer": "ipython3",
   "version": "3.7.7"
  },
  "notebookId": "b55de8e4-e002-42c7-8d0e-057fda785f2d",
  "notebookPath": "WDNet.ipynb"
 },
 "nbformat": 4,
 "nbformat_minor": 4
}
