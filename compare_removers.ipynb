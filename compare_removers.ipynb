{
 "cells": [
  {
   "cell_type": "code",
   "execution_count": null,
   "id": "8d208655-68bf-4eac-8f23-88247b80d30a",
   "metadata": {},
   "outputs": [],
   "source": [
    "#!g1.1\n",
    "#basic_path = '/content/drive/MyDrive/Colab Notebooks' # colab\n",
    "basic_path = '' # local\n",
    "\n",
    "import sys\n",
    "import os\n",
    "import torch\n",
    "import numpy as np\n",
    "import torchvision\n",
    "import cv2\n",
    "import matplotlib.pyplot as plt\n",
    "#sys.path.insert(0, basic_path+'/WDNet-main')\n",
    "import WDNet\n",
    "\n",
    "os.environ[\"KMP_DUPLICATE_LIB_OK\"]=\"TRUE\""
   ]
  },
  {
   "cell_type": "code",
   "execution_count": null,
   "id": "66e6d534-0c2f-4bd5-bc09-fa716901bd1d",
   "metadata": {},
   "outputs": [],
   "source": [
    "#!g1.1\n",
    "device='cuda'\n",
    "\n",
    "G_pre = WDNet.generator(3,3)\n",
    "G_pre.to(device)\n",
    "G_pre.load_state_dict(torch.load(os.path.join(basic_path+'pretrained/WDNet_G.pkl')))\n",
    "\n",
    "\n",
    "G = WDNet.generator(3,3)\n",
    "G.to(device)\n",
    "G.load_state_dict(torch.load(os.path.join(basic_path+'save_dir/WDNet_G.pkl')))\n",
    "\n",
    "\n",
    "image_path = basic_path+'wdnet_test/wm2.jpg'\n",
    "image = torchvision.io.read_image(image_path)\n",
    "#image = image[[2,1,0],:,:] # RGB 2 BGR\n",
    "image = image.float() / 255\n",
    "image = image.unsqueeze(0)\n",
    "image = image.to(device)\n",
    "\n",
    "img_nowm_pre = G_pre(image)\n",
    "img_nowm = G(image)\n",
    "\n",
    "plt.rcParams[\"figure.figsize\"] = (16,8)\n",
    "plt.subplot(1, 3, 1)\n",
    "plt.gca().set_title('watermarked')\n",
    "plt.imshow(image.squeeze(0).cpu().permute(1,2,0))\n",
    "plt.subplot(1, 3, 2)\n",
    "plt.gca().set_title('wdnet pretrained')\n",
    "plt.imshow(img_nowm_pre[0].squeeze(0).cpu().permute(1,2,0).detach().numpy())\n",
    "plt.subplot(1, 3, 3)\n",
    "plt.gca().set_title('wdnet pretrained + train')\n",
    "plt.imshow(img_nowm[0].squeeze(0).cpu().permute(1,2,0).detach().numpy())"
   ]
  },
  {
   "cell_type": "code",
   "execution_count": null,
   "id": "399f6e2d-b66c-4022-bd91-ed22944485d2",
   "metadata": {},
   "outputs": [],
   "source": [
    "#!g1.1\n",
    "# pretrained generator test\n",
    "G = WDNet.generator(3,3)\n",
    "G.load_state_dict(torch.load(os.path.join(basic_path+'../model_WDNet/WDNet_G.pkl')))\n",
    "\n",
    "image_path = basic_path+'../data_CLWD/test/Watermarked_image/13.jpg'\n",
    "image = torchvision.io.read_image(image_path)\n",
    "#image = image[[2,1,0],:,:] # RGB 2 BGR\n",
    "image = image.float() / 255\n",
    "image = image.unsqueeze(0)\n",
    "\n",
    "print('start gen')\n",
    "img_nowm = G(image)\n",
    "print('end gen')\n",
    "\n",
    "plt.rcParams[\"figure.figsize\"] = (6,4)\n",
    "plt.subplot(1, 2, 1)\n",
    "plt.imshow(image.squeeze(0).permute(1,2,0))\n",
    "plt.subplot(1, 2, 2)\n",
    "plt.imshow(img_nowm[0].squeeze(0).permute(1,2,0).detach().numpy())"
   ]
  }
 ],
 "metadata": {
  "kernelspec": {
   "display_name": "DataSphere Kernel",
   "language": "python",
   "name": "python3"
  },
  "language_info": {
   "codemirror_mode": {
    "name": "ipython",
    "version": 3
   },
   "file_extension": ".py",
   "mimetype": "text/x-python",
   "name": "python",
   "nbconvert_exporter": "python",
   "pygments_lexer": "ipython3",
   "version": "3.7.7"
  }
 },
 "nbformat": 4,
 "nbformat_minor": 5
}
